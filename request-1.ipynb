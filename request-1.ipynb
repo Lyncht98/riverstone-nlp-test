{
 "cells": [
  {
   "cell_type": "code",
   "execution_count": 81,
   "metadata": {},
   "outputs": [],
   "source": [
    "# Title: RiverStone Assignment\n",
    "# Author: Tadhg Lynch\n",
    "# Date: 2023-4-14\n",
    "\n",
    "#packages\n",
    "import pandas as pd"
   ]
  },
  {
   "cell_type": "code",
   "execution_count": 83,
   "metadata": {},
   "outputs": [
    {
     "name": "stdout",
     "output_type": "stream",
     "text": [
      "<class 'pandas.core.frame.DataFrame'>\n",
      "RangeIndex: 509236 entries, 0 to 509235\n",
      "Data columns (total 8 columns):\n",
      " #   Column        Non-Null Count   Dtype \n",
      "---  ------        --------------   ----- \n",
      " 0   time_created  509236 non-null  int64 \n",
      " 1   date_created  509236 non-null  object\n",
      " 2   up_votes      509236 non-null  int64 \n",
      " 3   down_votes    509236 non-null  int64 \n",
      " 4   title         509236 non-null  object\n",
      " 5   over_18       509236 non-null  bool  \n",
      " 6   author        509236 non-null  object\n",
      " 7   subreddit     509236 non-null  object\n",
      "dtypes: bool(1), int64(3), object(4)\n",
      "memory usage: 27.7+ MB\n"
     ]
    },
    {
     "data": {
      "text/html": [
       "<div>\n",
       "<style scoped>\n",
       "    .dataframe tbody tr th:only-of-type {\n",
       "        vertical-align: middle;\n",
       "    }\n",
       "\n",
       "    .dataframe tbody tr th {\n",
       "        vertical-align: top;\n",
       "    }\n",
       "\n",
       "    .dataframe thead th {\n",
       "        text-align: right;\n",
       "    }\n",
       "</style>\n",
       "<table border=\"1\" class=\"dataframe\">\n",
       "  <thead>\n",
       "    <tr style=\"text-align: right;\">\n",
       "      <th></th>\n",
       "      <th>time_created</th>\n",
       "      <th>date_created</th>\n",
       "      <th>up_votes</th>\n",
       "      <th>down_votes</th>\n",
       "      <th>title</th>\n",
       "      <th>over_18</th>\n",
       "      <th>author</th>\n",
       "      <th>subreddit</th>\n",
       "    </tr>\n",
       "  </thead>\n",
       "  <tbody>\n",
       "    <tr>\n",
       "      <th>0</th>\n",
       "      <td>1201232046</td>\n",
       "      <td>2008-01-25</td>\n",
       "      <td>3</td>\n",
       "      <td>0</td>\n",
       "      <td>Scores killed in Pakistan clashes</td>\n",
       "      <td>False</td>\n",
       "      <td>polar</td>\n",
       "      <td>worldnews</td>\n",
       "    </tr>\n",
       "    <tr>\n",
       "      <th>1</th>\n",
       "      <td>1201232075</td>\n",
       "      <td>2008-01-25</td>\n",
       "      <td>2</td>\n",
       "      <td>0</td>\n",
       "      <td>Japan resumes refuelling mission</td>\n",
       "      <td>False</td>\n",
       "      <td>polar</td>\n",
       "      <td>worldnews</td>\n",
       "    </tr>\n",
       "    <tr>\n",
       "      <th>2</th>\n",
       "      <td>1201232523</td>\n",
       "      <td>2008-01-25</td>\n",
       "      <td>3</td>\n",
       "      <td>0</td>\n",
       "      <td>US presses Egypt on Gaza border</td>\n",
       "      <td>False</td>\n",
       "      <td>polar</td>\n",
       "      <td>worldnews</td>\n",
       "    </tr>\n",
       "    <tr>\n",
       "      <th>3</th>\n",
       "      <td>1201233290</td>\n",
       "      <td>2008-01-25</td>\n",
       "      <td>1</td>\n",
       "      <td>0</td>\n",
       "      <td>Jump-start economy: Give health care to all</td>\n",
       "      <td>False</td>\n",
       "      <td>fadi420</td>\n",
       "      <td>worldnews</td>\n",
       "    </tr>\n",
       "    <tr>\n",
       "      <th>4</th>\n",
       "      <td>1201274720</td>\n",
       "      <td>2008-01-25</td>\n",
       "      <td>4</td>\n",
       "      <td>0</td>\n",
       "      <td>Council of Europe bashes EU&amp;UN terror blacklist</td>\n",
       "      <td>False</td>\n",
       "      <td>mhermans</td>\n",
       "      <td>worldnews</td>\n",
       "    </tr>\n",
       "  </tbody>\n",
       "</table>\n",
       "</div>"
      ],
      "text/plain": [
       "   time_created date_created  up_votes  down_votes   \n",
       "0    1201232046   2008-01-25         3           0  \\\n",
       "1    1201232075   2008-01-25         2           0   \n",
       "2    1201232523   2008-01-25         3           0   \n",
       "3    1201233290   2008-01-25         1           0   \n",
       "4    1201274720   2008-01-25         4           0   \n",
       "\n",
       "                                             title  over_18    author   \n",
       "0                Scores killed in Pakistan clashes    False     polar  \\\n",
       "1                 Japan resumes refuelling mission    False     polar   \n",
       "2                  US presses Egypt on Gaza border    False     polar   \n",
       "3     Jump-start economy: Give health care to all     False   fadi420   \n",
       "4  Council of Europe bashes EU&UN terror blacklist    False  mhermans   \n",
       "\n",
       "   subreddit  \n",
       "0  worldnews  \n",
       "1  worldnews  \n",
       "2  worldnews  \n",
       "3  worldnews  \n",
       "4  worldnews  "
      ]
     },
     "execution_count": 83,
     "metadata": {},
     "output_type": "execute_result"
    }
   ],
   "source": [
    "#import data\n",
    "df = pd.read_csv(\"data/reddit_worldnews_start_to_2016-11-22.csv\")\n",
    "\n",
    "# data description from kaggle\n",
    "\n",
    "# Reddit is a social network which divide topics into so called 'subreddits'.\n",
    "# In subreddit 'worldnews', news of the whole world are published. The dataset contains following columns:\n",
    "# time_created - a Unix timestamp of the submission creation date\n",
    "# date_created - creation time in %Y-%m-%d\n",
    "# up_votes - how often the submission was upvoted\n",
    "# down_votes - how often the submission was downvoted\n",
    "# title - the title of the submission\n",
    "# over_18 - if the submission is for mature persons\n",
    "# author - the reddit username of the author\n",
    "# subreddit - this is always 'worldnews'\n",
    "\n",
    "df.info() # non-nulls across the board, nice\n",
    "\n",
    "# I like to see the data\n",
    "df.head()"
   ]
  },
  {
   "attachments": {},
   "cell_type": "markdown",
   "metadata": {},
   "source": [
    "# Request 1\n",
    "Description: Build and graph a seasonal index of average upvotes by post at the Monthly, Day of Week, and Hour of  Day levels. "
   ]
  },
  {
   "cell_type": "code",
   "execution_count": 84,
   "metadata": {},
   "outputs": [
    {
     "data": {
      "text/html": [
       "<div>\n",
       "<style scoped>\n",
       "    .dataframe tbody tr th:only-of-type {\n",
       "        vertical-align: middle;\n",
       "    }\n",
       "\n",
       "    .dataframe tbody tr th {\n",
       "        vertical-align: top;\n",
       "    }\n",
       "\n",
       "    .dataframe thead th {\n",
       "        text-align: right;\n",
       "    }\n",
       "</style>\n",
       "<table border=\"1\" class=\"dataframe\">\n",
       "  <thead>\n",
       "    <tr style=\"text-align: right;\">\n",
       "      <th></th>\n",
       "      <th>time_created</th>\n",
       "      <th>date_created</th>\n",
       "      <th>up_votes</th>\n",
       "      <th>down_votes</th>\n",
       "      <th>title</th>\n",
       "      <th>over_18</th>\n",
       "      <th>author</th>\n",
       "      <th>subreddit</th>\n",
       "    </tr>\n",
       "  </thead>\n",
       "  <tbody>\n",
       "    <tr>\n",
       "      <th>343260</th>\n",
       "      <td>2015-02-10</td>\n",
       "      <td>2015-02-09</td>\n",
       "      <td>7</td>\n",
       "      <td>0</td>\n",
       "      <td>Christians in India want their own Christian c...</td>\n",
       "      <td>False</td>\n",
       "      <td>InternetOfficer</td>\n",
       "      <td>worldnews</td>\n",
       "    </tr>\n",
       "  </tbody>\n",
       "</table>\n",
       "</div>"
      ],
      "text/plain": [
       "       time_created date_created  up_votes  down_votes   \n",
       "343260   2015-02-10   2015-02-09         7           0  \\\n",
       "\n",
       "                                                    title  over_18   \n",
       "343260  Christians in India want their own Christian c...    False  \\\n",
       "\n",
       "                 author  subreddit  \n",
       "343260  InternetOfficer  worldnews  "
      ]
     },
     "execution_count": 84,
     "metadata": {},
     "output_type": "execute_result"
    }
   ],
   "source": [
    "# converting unix timestamp as will be needed for hourly\n",
    "df['time_created'] = pd.to_datetime(df['time_created'], unit='s')\n",
    "\n",
    "# check that new time_created matches date_created\n",
    "matching = df['time_created'].dt.date == pd.to_datetime(df['date_created']).dt.date\n",
    "\n",
    "# show df columns where matching is false\n",
    "df[matching == False]\n",
    "\n",
    "\n",
    "# This singular mismatched case has been caused by a post being created at exactly midnight, so will be sticking with the converted unix timestamp\n",
    "# despite not being shown, it has time of 00:00:00, so will be fine for hourly\n",
    "\n",
    "# drop no longer needed date_created column\n",
    "df = df.drop(['date_created'], axis=1)"
   ]
  },
  {
   "cell_type": "code",
   "execution_count": null,
   "metadata": {},
   "outputs": [],
   "source": []
  },
  {
   "cell_type": "code",
   "execution_count": 146,
   "metadata": {},
   "outputs": [
    {
     "data": {
      "image/png": "[encoded data removed]",
      "text/plain": [
       "<Figure size 640x480 with 1 Axes>"
      ]
     },
     "metadata": {},
     "output_type": "display_data"
    }
   ],
   "source": [
    "# Function to graph seasonal index\n",
    "def graph_seasonal_index(df, level):\n",
    "    # group by level\n",
    "    df_grouped = df.groupby(level)['up_votes'].mean()\n",
    "\n",
    "    # graph seasonal index\n",
    "    df_grouped.plot()\n",
    "\n",
    "\n",
    "graph_seasonal_index(df, df['time_created'].dt.month)"
   ]
  },
  {
   "cell_type": "code",
   "execution_count": 147,
   "metadata": {},
   "outputs": [
    {
     "data": {
      "image/png": "[encoded data removed]",
      "text/plain": [
       "<Figure size 640x480 with 1 Axes>"
      ]
     },
     "metadata": {},
     "output_type": "display_data"
    }
   ],
   "source": [
    "graph_seasonal_index(df, df['time_created'].dt.dayofweek)"
   ]
  },
  {
   "cell_type": "code",
   "execution_count": 148,
   "metadata": {},
   "outputs": [
    {
     "data": {
      "image/png": "[encoded data removed]",
      "text/plain": [
       "<Figure size 640x480 with 1 Axes>"
      ]
     },
     "metadata": {},
     "output_type": "display_data"
    }
   ],
   "source": [
    "graph_seasonal_index(df, df['time_created'].dt.hour)"
   ]
  },
  {
   "attachments": {},
   "cell_type": "markdown",
   "metadata": {},
   "source": [
    "# Request 2\n",
    "Clean, scrub, and prepare post titles using standard NLP techniques. "
   ]
  },
  {
   "cell_type": "code",
   "execution_count": 163,
   "metadata": {},
   "outputs": [],
   "source": [
    "# The Subreddit posted rules:\n",
    "# 1. No US Internal News or Politics\n",
    "# 2. No Editorialized or Misleading Titles\n",
    "# 3. No Feature stories\n",
    "# 4. No Editorials, Opinion or Analysis Pieces\n",
    "# 5. No Articles In Languages Other Than English\n",
    "# 6. No Images, Videos or Audio Clips\n",
    "# 7. No Bigotry or Other Offensive Content\n",
    "# 8. No Personal Attacks On Other Users\n",
    "# 9. No Memes, Gifs, unlabeled NSFW images\n",
    "# 10. No Old News Articles (≥ 1 Week old)\n",
    "\n",
    "# Main NLP Takeaways:\n",
    "# no sentiment\n",
    "# no other languages \n",
    "# unlikely to have poor grammar or misspellings (inferred by strict moderators)\n",
    "# no emojis\n",
    "\n",
    "# NLP ideas:\n",
    "# Lots on Russia invasion of Ukraine, look out of more sparse references (e.g. Crimea, Moscow, Putin, etc.)... nevermind, dataset only goes up to 2016-11-22"
   ]
  },
  {
   "cell_type": "code",
   "execution_count": 151,
   "metadata": {},
   "outputs": [],
   "source": [
    "# function to clean, scrub, and prepare post title using standard NLP techniques\n",
    "def clean_post_title(post_title):\n",
    "    # convert to lowercase\n",
    "    post_title = post_title.lower()\n",
    "    # remove numbers\n",
    "    post_title = ''.join([i for i in post_title if not i.isdigit()])\n",
    "    # remove single characters\n",
    "    post_title = ' '.join([word for word in post_title.split() if len(word) > 1])\n",
    "    # remove extra whitespace\n",
    "    post_title = ' '.join(post_title.split())\n",
    "    return post_title\n",
    "\n",
    "clean_titles = df['title'].apply(clean_post_title)\n",
    "\n",
    "# would apply more cleaning techniques, but OpenAI's models take care of this for us; in fact think what has been removed already may not be optimal as the model is designed to handle natural writing, so jumping to Request 3 and seeing how it goes before returning to this."
   ]
  },
  {
   "cell_type": "code",
   "execution_count": 152,
   "metadata": {},
   "outputs": [],
   "source": []
  },
  {
   "attachments": {},
   "cell_type": "markdown",
   "metadata": {},
   "source": [
    "# Request 3\n",
    "Cluster post titles and identify the top 20 clusters by frequency. Use of Chat-GPT AI is encouraged. "
   ]
  },
  {
   "cell_type": "code",
   "execution_count": 1,
   "metadata": {},
   "outputs": [
    {
     "name": "stderr",
     "output_type": "stream",
     "text": [
      "ERROR: Could not find a version that satisfies the requirement curl (from versions: none)\n",
      "ERROR: No matching distribution found for curl\n"
     ]
    }
   ],
   "source": [
    "# !pip install openai\n",
    "!pip install curl\n"
   ]
  },
  {
   "cell_type": "code",
   "execution_count": 169,
   "metadata": {},
   "outputs": [
    {
     "ename": "SyntaxError",
     "evalue": "unterminated string literal (detected at line 4) (2940115770.py, line 4)",
     "output_type": "error",
     "traceback": [
      "\u001b[1;36m  Cell \u001b[1;32mIn[169], line 4\u001b[1;36m\u001b[0m\n\u001b[1;33m    -d '{\u001b[0m\n\u001b[1;37m       ^\u001b[0m\n\u001b[1;31mSyntaxError\u001b[0m\u001b[1;31m:\u001b[0m unterminated string literal (detected at line 4)\n"
     ]
    }
   ],
   "source": [
    "curl https://api.openai.com/v1/embeddings \\\n",
    "  -H \"Content-Type: application/json\" \\\n",
    "  -H \"Authorization: Bearer $OPENAI_API_KEY\" \\\n",
    "  -d '{\n",
    "    \"input\": \"Your text string goes here\",\n",
    "    \"model\": \"text-embedding-ada-002\"\n",
    "  }'"
   ]
  },
  {
   "cell_type": "code",
   "execution_count": 170,
   "metadata": {},
   "outputs": [
    {
     "ename": "ModuleNotFoundError",
     "evalue": "No module named 'curl'",
     "output_type": "error",
     "traceback": [
      "\u001b[1;31m---------------------------------------------------------------------------\u001b[0m",
      "\u001b[1;31mModuleNotFoundError\u001b[0m                       Traceback (most recent call last)",
      "Cell \u001b[1;32mIn[170], line 1\u001b[0m\n\u001b[1;32m----> 1\u001b[0m \u001b[39mimport\u001b[39;00m \u001b[39mcurl\u001b[39;00m\n",
      "\u001b[1;31mModuleNotFoundError\u001b[0m: No module named 'curl'"
     ]
    }
   ],
   "source": [
    "import curl"
   ]
  },
  {
   "cell_type": "code",
   "execution_count": null,
   "metadata": {},
   "outputs": [],
   "source": []
  }
 ],
 "metadata": {
  "kernelspec": {
   "display_name": "Python 3",
   "language": "python",
   "name": "python3"
  },
  "language_info": {
   "codemirror_mode": {
    "name": "ipython",
    "version": 3
   },
   "file_extension": ".py",
   "mimetype": "text/x-python",
   "name": "python",
   "nbconvert_exporter": "python",
   "pygments_lexer": "ipython3",
   "version": "3.10.11"
  },
  "orig_nbformat": 4,
  "vscode": {
   "interpreter": {
    "hash": "87a8abb943bf94e3c6de79ff880ccfbd1ceb839870c3100378770684409b1305"
   }
  }
 },
 "nbformat": 4,
 "nbformat_minor": 2
}
